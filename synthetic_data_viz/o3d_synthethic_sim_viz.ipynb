{
 "cells": [
  {
   "cell_type": "code",
   "execution_count": 1,
   "id": "c2d5c7ab",
   "metadata": {},
   "outputs": [
    {
     "name": "stdout",
     "output_type": "stream",
     "text": [
      "Jupyter environment detected. Enabling Open3D WebVisualizer.\n",
      "[Open3D INFO] WebRTC GUI backend enabled.\n",
      "[Open3D INFO] WebRTCWindowSystem: HTTP handshake server disabled.\n"
     ]
    }
   ],
   "source": [
    "import numpy as np\n",
    "import json\n",
    "import open3d as o3d"
   ]
  },
  {
   "cell_type": "code",
   "execution_count": 8,
   "id": "3db8e818",
   "metadata": {},
   "outputs": [],
   "source": [
    "data_point = '0200'\n",
    "npy_file_path = f'/home/colino/hawk/synthetic_ground_truth/tests/SimulationAlignment_1/bounding_box_3d_{data_point}.npy'\n",
    "labels_file_path = f'/home/colino/hawk/synthetic_ground_truth/tests/SimulationAlignment_1/bounding_box_3d_labels_{data_point}.json'\n",
    "data_npy = np.load(npy_file_path, allow_pickle=True)"
   ]
  },
  {
   "cell_type": "code",
   "execution_count": 9,
   "id": "c08dd2f0",
   "metadata": {
    "scrolled": false
   },
   "outputs": [
    {
     "name": "stdout",
     "output_type": "stream",
     "text": [
      "Contents of the .npy file:\n",
      "[(0, -13.349487  , -1.1616669e+01,  4.8628118e-02, 13.349426  , 1.1616638e+01, 6.4486008e+01, [[ 9.3227820e-03,  3.6174215e-03,  0.0000000e+00,  0.0000000e+00], [-3.6174215e-03,  9.3227820e-03,  0.0000000e+00,  0.0000000e+00], [ 0.0000000e+00,  0.0000000e+00,  9.9999998e-03,  0.0000000e+00], [-7.2977443e+00,  2.7479644e+00, -5.9559842e-08,  1.0000000e+00]], 0.    )\n",
      " (0, -13.349433  , -1.1616821e+01,  4.8628118e-02, 13.349438  , 1.1616577e+01, 6.4486008e+01, [[ 3.4622647e-04, -9.9940049e-03,  0.0000000e+00,  0.0000000e+00], [ 9.9940049e-03,  3.4622647e-04,  0.0000000e+00,  0.0000000e+00], [ 0.0000000e+00,  0.0000000e+00,  9.9999998e-03,  0.0000000e+00], [-1.6340977e+01, -8.1233901e-01, -5.9559827e-08,  1.0000000e+00]], 0.    )\n",
      " (1,  -0.50000095, -5.0000143e-01, -5.0000000e-01,  0.49999952, 4.9999905e-01, 4.9999994e-01, [[ 9.1060328e-01, -4.1328162e-01,  0.0000000e+00,  0.0000000e+00], [ 8.2656324e-02,  1.8212065e-01,  0.0000000e+00,  0.0000000e+00], [ 0.0000000e+00,  0.0000000e+00,  1.0000000e+00,  0.0000000e+00], [-7.5175319e+00,  1.9280347e+00,  5.2399403e-01,  1.0000000e+00]], 0.    )\n",
      " (1,  -0.5       , -5.0000000e-01, -5.0000000e-01,  0.5       , 5.0000000e-01, 4.9999994e-01, [[ 1.0000000e+00,  0.0000000e+00,  0.0000000e+00,  0.0000000e+00], [ 0.0000000e+00,  2.0000000e-01,  0.0000000e+00,  0.0000000e+00], [ 0.0000000e+00,  0.0000000e+00,  1.0000000e+00,  0.0000000e+00], [-1.2510263e+01, -3.9111769e+00,  5.2399403e-01,  1.0000000e+00]], 0.    )\n",
      " (1,  -8.201782  , -4.8061973e+16, -1.6167906e+16,  8.2017975 , 4.8061513e+16, 1.6167769e+16, [[ 4.1810181e-02,  0.0000000e+00,  0.0000000e+00,  0.0000000e+00], [ 0.0000000e+00,  3.1776838e-25, -9.2837251e-18,  0.0000000e+00], [ 0.0000000e+00,  2.2204460e-18,  7.6002631e-26,  0.0000000e+00], [-1.0580780e+01, -2.7160289e+00,  4.3702176e-01,  1.0000000e+00]], 0.    )\n",
      " (1,  -8.2017975 , -5.7542890e+16, -1.6168044e+16,  8.201813  , 5.7542335e+16, 1.6168044e+16, [[ 3.4921430e-02,  2.2990977e-02,  0.0000000e+00,  0.0000000e+00], [ 0.0000000e+00, -2.9469928e-25, -7.7541143e-18,  0.0000000e+00], [-1.2209999e-18,  1.8545997e-18, -8.4389246e-26,  0.0000000e+00], [-8.5316648e+00, -1.2775089e-01,  4.3702176e-01,  1.0000000e+00]], 0.0079)\n",
      " (1,  -5.682747  , -2.5205003e+16, -8.6625024e+15,  5.6826935 , 2.5204904e+16, 8.6633270e+15, [[ 1.0894728e-01, -8.1023820e-02,  0.0000000e+00,  0.0000000e+00], [ 0.0000000e+00,  1.8607349e-24, -2.4191153e-17,  0.0000000e+00], [ 1.3250699e-18,  1.7817322e-18,  1.7079224e-25,  0.0000000e+00], [-1.3693596e+01, -1.3257448e-01,  6.0080713e-01,  1.0000000e+00]], 0.0027)]\n"
     ]
    }
   ],
   "source": [
    "print(\"Contents of the .npy file:\")\n",
    "print(data_npy[:])"
   ]
  },
  {
   "cell_type": "code",
   "execution_count": 10,
   "id": "c2bbe98c",
   "metadata": {},
   "outputs": [],
   "source": [
    "# Extract the first column\n",
    "first_elements = [row[0] for row in data_npy]\n",
    "\n",
    "# Count unique values in the first column\n",
    "unique_values, counts = np.unique(first_elements, return_counts=True)"
   ]
  },
  {
   "cell_type": "code",
   "execution_count": 11,
   "id": "963b29c6",
   "metadata": {},
   "outputs": [
    {
     "name": "stdout",
     "output_type": "stream",
     "text": [
      "[0 1] [2 5]\n"
     ]
    }
   ],
   "source": [
    "print(unique_values, counts)"
   ]
  },
  {
   "cell_type": "code",
   "execution_count": 12,
   "id": "45454221",
   "metadata": {},
   "outputs": [],
   "source": [
    "with open(labels_file_path, 'r') as labels_file:\n",
    "    labels_data = json.load(labels_file)"
   ]
  },
  {
   "cell_type": "code",
   "execution_count": 13,
   "id": "55049b74",
   "metadata": {},
   "outputs": [
    {
     "name": "stdout",
     "output_type": "stream",
     "text": [
      "Contents of the label file\n",
      "{'0': {'class': 'wetfloorsign'}, '1': {'class': 'alignmentobj'}}\n"
     ]
    }
   ],
   "source": [
    "print(\"Contents of the label file\")\n",
    "print(labels_data)"
   ]
  },
  {
   "cell_type": "code",
   "execution_count": 14,
   "id": "bd6ea1cc",
   "metadata": {},
   "outputs": [],
   "source": [
    "data_npy_full = [list(row) for row in data_npy]"
   ]
  },
  {
   "cell_type": "code",
   "execution_count": 15,
   "id": "88640470",
   "metadata": {},
   "outputs": [],
   "source": [
    "sign_data = [row for row in data_npy_full if row[0] in [1]]"
   ]
  },
  {
   "cell_type": "code",
   "execution_count": 16,
   "id": "5d8e1d8d",
   "metadata": {},
   "outputs": [],
   "source": [
    "geometries = []"
   ]
  },
  {
   "cell_type": "code",
   "execution_count": 11,
   "id": "886c6ba8",
   "metadata": {},
   "outputs": [
    {
     "name": "stdout",
     "output_type": "stream",
     "text": [
      "[[[-1.33494873e+01 -1.16166687e+01  1.16166382e+01]\n",
      "  [-1.33494873e+01 -1.16166687e+01  6.44860077e+01]\n",
      "  [-1.33494873e+01  1.33494263e+01  1.16166382e+01]\n",
      "  [-1.33494873e+01  1.33494263e+01  6.44860077e+01]\n",
      "  [ 4.86281179e-02 -1.16166687e+01  1.16166382e+01]\n",
      "  [ 4.86281179e-02 -1.16166687e+01  6.44860077e+01]\n",
      "  [ 4.86281179e-02  1.33494263e+01  1.16166382e+01]\n",
      "  [ 4.86281179e-02  1.33494263e+01  6.44860077e+01]]\n",
      "\n",
      " [[-1.33494329e+01 -1.16168213e+01  1.16165771e+01]\n",
      "  [-1.33494329e+01 -1.16168213e+01  6.44860077e+01]\n",
      "  [-1.33494329e+01  1.33494377e+01  1.16165771e+01]\n",
      "  [-1.33494329e+01  1.33494377e+01  6.44860077e+01]\n",
      "  [ 4.86281179e-02 -1.16168213e+01  1.16165771e+01]\n",
      "  [ 4.86281179e-02 -1.16168213e+01  6.44860077e+01]\n",
      "  [ 4.86281179e-02  1.33494377e+01  1.16165771e+01]\n",
      "  [ 4.86281179e-02  1.33494377e+01  6.44860077e+01]]]\n",
      "[[[ 9.32278205e-03 -3.61742149e-03  0.00000000e+00 -7.29774427e+00]\n",
      "  [ 3.61742149e-03  9.32278205e-03  0.00000000e+00  2.74796438e+00]\n",
      "  [ 0.00000000e+00  0.00000000e+00  9.99999978e-03 -5.95598415e-08]\n",
      "  [ 0.00000000e+00  0.00000000e+00  0.00000000e+00  1.00000000e+00]]\n",
      "\n",
      " [[ 3.46226472e-04  9.99400485e-03  0.00000000e+00 -1.63409767e+01]\n",
      "  [-9.99400485e-03  3.46226472e-04  0.00000000e+00 -8.12339008e-01]\n",
      "  [ 0.00000000e+00  0.00000000e+00  9.99999978e-03 -5.95598273e-08]\n",
      "  [ 0.00000000e+00  0.00000000e+00  0.00000000e+00  1.00000000e+00]]]\n"
     ]
    }
   ],
   "source": [
    "sign_points = []\n",
    "sign_transforms = []\n",
    "for row in sign_data:\n",
    "    x_min = row[1]\n",
    "    y_min = row[2]\n",
    "    x_max = row[3]\n",
    "    y_max = row[4]\n",
    "    z_min = row[5]\n",
    "    z_max = row[6]\n",
    "    \n",
    "    bbox_points = [\n",
    "        [x_min, y_min, z_min],\n",
    "        [x_min, y_min, z_max],\n",
    "        [x_min, y_max, z_min],\n",
    "        [x_min, y_max, z_max],\n",
    "        [x_max, y_min, z_min],\n",
    "        [x_max, y_min, z_max],\n",
    "        [x_max, y_max, z_min],\n",
    "        [x_max, y_max, z_max]\n",
    "    ]\n",
    "    \n",
    "    sign_points.append(bbox_points)\n",
    "    \n",
    "    transform = row[7]\n",
    "    sign_transforms.append(transform.T)\n",
    "    \n",
    "    \n",
    "sign_points = np.array(sign_points).astype(np.float64)\n",
    "sign_transforms = np.array(sign_transforms).astype(np.float64)   \n",
    "    \n",
    "print(sign_points)\n",
    "print(sign_transforms)"
   ]
  },
  {
   "cell_type": "code",
   "execution_count": 12,
   "id": "10844587",
   "metadata": {},
   "outputs": [],
   "source": [
    "sign_pcds = []\n",
    "\n",
    "for i, row in enumerate(sign_points):\n",
    "    pcd = o3d.geometry.PointCloud()\n",
    "    pcd.points = o3d.utility.Vector3dVector(row)\n",
    "    pcd.transform(sign_transforms[i])\n",
    "    sign_pcds.append(pcd)\n",
    "    \n",
    "geometries += sign_pcds"
   ]
  },
  {
   "cell_type": "code",
   "execution_count": 13,
   "id": "6adb75f9",
   "metadata": {},
   "outputs": [],
   "source": [
    "sign_bboxes = []\n",
    "\n",
    "for i, pcd in enumerate(sign_pcds):\n",
    "    sign_bbox = pcd.get_oriented_bounding_box()\n",
    "    sign_bbox.color = [1,0,0]\n",
    "    sign_bboxes.append(sign_bbox)\n",
    "    \n",
    "geometries += sign_bboxes"
   ]
  },
  {
   "cell_type": "code",
   "execution_count": 14,
   "id": "21bfccfd",
   "metadata": {},
   "outputs": [],
   "source": [
    "transporter_points = o3d.utility.Vector3dVector()\n",
    "transporter_data = [row for row in data_npy_full if row[0] in [0]]\n",
    "\n",
    "for row in transporter_data:\n",
    "    x_min = row[1]\n",
    "    y_min = row[2]\n",
    "    x_max = row[3]\n",
    "    y_max = row[4]\n",
    "    z_min = row[5]\n",
    "    z_max = row[6]\n",
    "    \n",
    "    points = [\n",
    "        [x_min, y_min, z_min],\n",
    "        [x_min, y_min, z_max],\n",
    "        [x_min, y_max, z_min],\n",
    "        [x_min, y_max, z_max],\n",
    "        [x_max, y_min, z_min],\n",
    "        [x_max, y_min, z_max],\n",
    "        [x_max, y_max, z_min],\n",
    "        [x_max, y_max, z_max]\n",
    "    ]\n",
    "    \n",
    "    transform = row[7].T\n",
    "\n",
    "    pcd = o3d.geometry.PointCloud()\n",
    "    pcd.points = o3d.utility.Vector3dVector(np.array(points).astype(np.float64))\n",
    "    pcd.transform(np.array(transform).astype(np.float64))\n",
    "    transporter_points.extend(pcd.points)\n",
    "    \n",
    "transporter_pcd = o3d.geometry.PointCloud()\n",
    "transporter_pcd.points = transporter_points\n",
    "\n",
    "geometries += [transporter_pcd]"
   ]
  },
  {
   "cell_type": "code",
   "execution_count": 15,
   "id": "48f45df2",
   "metadata": {},
   "outputs": [],
   "source": [
    "transporter_bbox = transporter_pcd.get_oriented_bounding_box()\n",
    "transporter_bbox.color = [1,0,0]\n",
    "geometries += [transporter_bbox]"
   ]
  },
  {
   "cell_type": "code",
   "execution_count": 16,
   "id": "280d62ba",
   "metadata": {},
   "outputs": [],
   "source": [
    "origin_frame = o3d.geometry.TriangleMesh.create_coordinate_frame(size=1, origin=[0, 0, 0])\n",
    "geometries += [origin_frame]\n",
    "#geometries = sign_pcds"
   ]
  },
  {
   "cell_type": "code",
   "execution_count": null,
   "id": "deafaa7a",
   "metadata": {},
   "outputs": [],
   "source": []
  },
  {
   "cell_type": "code",
   "execution_count": 17,
   "id": "5fb88aa0",
   "metadata": {},
   "outputs": [],
   "source": [
    "o3d.visualization.draw_geometries(geometries)"
   ]
  },
  {
   "cell_type": "code",
   "execution_count": null,
   "id": "cef93073",
   "metadata": {},
   "outputs": [],
   "source": []
  }
 ],
 "metadata": {
  "kernelspec": {
   "display_name": "Python 3 (ipykernel)",
   "language": "python",
   "name": "python3"
  },
  "language_info": {
   "codemirror_mode": {
    "name": "ipython",
    "version": 3
   },
   "file_extension": ".py",
   "mimetype": "text/x-python",
   "name": "python",
   "nbconvert_exporter": "python",
   "pygments_lexer": "ipython3",
   "version": "3.10.12"
  }
 },
 "nbformat": 4,
 "nbformat_minor": 5
}
